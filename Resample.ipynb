{
 "cells": [
  {
   "cell_type": "code",
   "execution_count": 4,
   "metadata": {},
   "outputs": [],
   "source": [
    "months = [\"01\", \"02\", \"03\", \"04\", \"05\", \"06\", \"07\", \"08\", \"09\", \"10\", \"11\", \"12\"]\n",
    "for m in months:\n",
    "    # Define the projection of the PRISM data as NAD 1983\n",
    "    arcpy.management.DefineProjection(\n",
    "        in_dataset=\"PRISM_ppt_30yr_normal_800mM3_\" + m + \".asc\",\n",
    "        coor_system='GEOGCS[\"GCS_North_American_1983\",DATUM[\"D_North_American_1983\",SPHEROID[\"GRS_1980\",6378137.0,298.257222101]],PRIMEM[\"Greenwich\",0.0],UNIT[\"Degree\",0.0174532925199433]]'\n",
    "    )\n",
    "    # Redefine the projection, the snap raster, and the cell size to match the isotope grid\n",
    "    with arcpy.EnvManager(outputCoordinateSystem='PROJCS[\"Unknown_based_on_Normal_Sphere_r_6370997_ellipsoid_Lambert_Azimuthal_Equal_Area\",GEOGCS[\"GCS_unknown\",DATUM[\"D_Unknown_based_on_Normal_Sphere_r_6370997_ellipsoid\",SPHEROID[\"Normal_Sphere_r_6370997\",6370997.0,0.0]],PRIMEM[\"Greenwich\",0.0],UNIT[\"Degree\",0.0174532925199433]],PROJECTION[\"Lambert_Azimuthal_Equal_Area\"],PARAMETER[\"false_easting\",0.0],PARAMETER[\"false_northing\",0.0],PARAMETER[\"central_meridian\",-100.0],PARAMETER[\"latitude_of_origin\",45.0],UNIT[\"Meter\",1.0]]', resamplingMethod=\"BILINEAR\", snapRaster=\"d2h_01.tif\", nodata=\"-9999\", cellSize=\"d2h_01.tif\"):\n",
    "        arcpy.management.ProjectRaster(\n",
    "            in_raster=\"PRISM_ppt_30yr_normal_800mM3_\" + m + \"_asc.asc\",\n",
    "            out_raster=r\"C:\\Users\\User\\Documents\\UNR\\NEON Project\\Data\\GIS\\PRISM\\PRISM_ppt_\" + m + \"_resample.tif\",\n",
    "            out_coor_system='PROJCS[\"Unknown_based_on_Normal_Sphere_r_6370997_ellipsoid_Lambert_Azimuthal_Equal_Area\",GEOGCS[\"GCS_unknown\",DATUM[\"D_Unknown_based_on_Normal_Sphere_r_6370997_ellipsoid\",SPHEROID[\"Normal_Sphere_r_6370997\",6370997.0,0.0]],PRIMEM[\"Greenwich\",0.0],UNIT[\"Degree\",0.0174532925199433]],PROJECTION[\"Lambert_Azimuthal_Equal_Area\"],PARAMETER[\"false_easting\",0.0],PARAMETER[\"false_northing\",0.0],PARAMETER[\"central_meridian\",-100.0],PARAMETER[\"latitude_of_origin\",45.0],UNIT[\"Meter\",1.0]]',\n",
    "            resampling_type=\"BILINEAR\",\n",
    "            cell_size=\"1000 1000\",\n",
    "            geographic_transform=None,\n",
    "            Registration_Point=None,\n",
    "            in_coor_system='GEOGCS[\"GCS_North_American_1983\",DATUM[\"D_North_American_1983\",SPHEROID[\"GRS_1980\",6378137.0,298.257222101]],PRIMEM[\"Greenwich\",0.0],UNIT[\"Degree\",0.0174532925199433]]',\n",
    "            vertical=\"NO_VERTICAL\"\n",
    "        )"
   ]
  },
  {
   "cell_type": "code",
   "execution_count": null,
   "metadata": {},
   "outputs": [],
   "source": []
  }
 ],
 "metadata": {
  "kernelspec": {
   "display_name": "ArcGISPro",
   "language": "Python",
   "name": "python3"
  },
  "language_info": {
   "file_extension": ".py",
   "name": "python",
   "version": "3"
  }
 },
 "nbformat": 4,
 "nbformat_minor": 2
}
